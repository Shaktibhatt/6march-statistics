{
 "cells": [
  {
   "cell_type": "markdown",
   "id": "cb678f72-7c32-49ab-9e00-acb167630df8",
   "metadata": {},
   "source": [
    "ques.1\n",
    "\n",
    "Statistics is a way of collecting , organizing and analyzing the data.\n",
    "There are two methods of collecting data, primary(projective data collection, delphi technique, interviewing etc) and secondary method(consulted from primary dataset)\n"
   ]
  },
  {
   "cell_type": "markdown",
   "id": "0a2fd693-6aa6-4d45-b1f9-b42ae8aa2377",
   "metadata": {},
   "source": [
    "Ques.2\n",
    "\n",
    "1. Descriptive Statistics:\n",
    "   Consists of measure of central tendancy(mean, mode, median , variance, type of distribution)\n",
    "   (marks distribution of class consisting 700 students out of 100, there must be  mean , mode and median present in the data)\n",
    "2. Inferential statistics:\n",
    "   Determining the nature of population data on the basis of sample data.\n",
    "   (Determining the no. of people drink tea in the morning in india by taking a sample of people from Dehradun city)"
   ]
  },
  {
   "cell_type": "markdown",
   "id": "63814548-d8f4-4695-a9de-1f43051c0968",
   "metadata": {},
   "source": [
    "Ques.3\n",
    "\n",
    "There  are two major types of data\n",
    "1.  Quantitiative data : \n",
    "    Quantitative data is numbers based, countable, or measurable.\n",
    "Quantitative data tells us how many, how much, or how often in calculations.\n",
    "There are two types of Quantitiative data (discrete and continous)\n",
    "2.  Qualitiative data:\n",
    "    Qualitative data is interpretation-based, descriptive, and relating to language.\n",
    "Qualitative data can help us to understand why, how, or what happened behind certain behaviors.\n",
    "There are two types of Qualiative data (nominal and ordinal)"
   ]
  },
  {
   "cell_type": "markdown",
   "id": "f0a76fcc-6dc0-43b5-b7ee-8e871804ee9b",
   "metadata": {},
   "source": [
    "Ques.4\n",
    "\n",
    "1. Qualiitative\n",
    "2. Qualiitative\n",
    "3. Quantitative\n",
    "4. Quantitative"
   ]
  },
  {
   "cell_type": "markdown",
   "id": "3175c1df-cef8-4d81-a192-809c53a7583e",
   "metadata": {},
   "source": [
    "Ques 5\n",
    "\n",
    "Level of measurement tells about the nature of data present in the dataset, whether data is in ordered manner , can any result be made out of the ratio of datas, starting point is zero , difference can be measured or not.\n",
    "Example:\n",
    "1. Nominal data:  Blood group of the people living in a housing society.\n",
    "2. ordinal data:  visuals of a landscape(best, good , bad)\n",
    "3. Interval dat:  time required by horses to complete the race.\n",
    "4. ratio data:    Distance of different cities from dehradun. "
   ]
  },
  {
   "cell_type": "markdown",
   "id": "a501a4e3-5f9e-4cbd-940a-40f5f5a92dea",
   "metadata": {},
   "source": [
    "Ques 6\n",
    "\n",
    "level of measurement determines the type of statistical analysis that can be conducted. Let us we need to make a conclution of the expenditure of different families living \n",
    "in a housing society so we need to make the level of measurement for this."
   ]
  },
  {
   "cell_type": "markdown",
   "id": "dd24d97f-f15e-4601-a7e7-be74ebd33073",
   "metadata": {},
   "source": [
    "Ques 7\n",
    "\n",
    "Nominal Data is classified without any ordering or rank, Ordinal Data has some predetermined or natural order"
   ]
  },
  {
   "cell_type": "markdown",
   "id": "8727c8a4-0a88-4a21-8fbe-b16d94ad5025",
   "metadata": {},
   "source": [
    "Ques 8\n",
    "\n",
    "Histogram  plot can be used to display data in terms of range"
   ]
  },
  {
   "cell_type": "markdown",
   "id": "b272bc72-9a27-4cea-9933-3a2d2a4aab2a",
   "metadata": {},
   "source": [
    "Ques 9\n",
    "\n",
    "1. Descriptive Statistics:\n",
    "   Consists of measure of central tendancy(mean, mode, median , variance, type of distribution)\n",
    "   (marks distribution of class consisting 700 students out of 100, there must be  mean , mode and median present in the data)\n",
    "2. Inferential statistics:\n",
    "   Determining the nature of population data on the basis of sample data.\n",
    "   (Determining the no. of people drink tea in the morning in india by taking a sample of people from Dehradun city)"
   ]
  },
  {
   "cell_type": "markdown",
   "id": "2c860e24-c150-43be-bf04-d195fb631cc6",
   "metadata": {},
   "source": [
    "Ques 10\n",
    "\n",
    "Mean , mode and median \n",
    "mean is the ratio of sum of data and the no. of datas, mean can be used to fill the missing datas\n",
    "Mode is the data which has occured most of the time in dataset and it can be filled in missing space in case of categorical data.\n",
    "median is the middle data can be used in place of mean when outliers are present."
   ]
  },
  {
   "cell_type": "code",
   "execution_count": null,
   "id": "195251ca-52fa-47f9-849e-df11364a1f62",
   "metadata": {},
   "outputs": [],
   "source": []
  }
 ],
 "metadata": {
  "kernelspec": {
   "display_name": "Python 3 (ipykernel)",
   "language": "python",
   "name": "python3"
  },
  "language_info": {
   "codemirror_mode": {
    "name": "ipython",
    "version": 3
   },
   "file_extension": ".py",
   "mimetype": "text/x-python",
   "name": "python",
   "nbconvert_exporter": "python",
   "pygments_lexer": "ipython3",
   "version": "3.10.6"
  }
 },
 "nbformat": 4,
 "nbformat_minor": 5
}
